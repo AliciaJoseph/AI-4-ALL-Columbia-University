{
  "nbformat": 4,
  "nbformat_minor": 0,
  "metadata": {
    "colab": {
      "name": "DIabetes Algorithm (Logistic Regression) ",
      "provenance": [],
      "collapsed_sections": [],
      "include_colab_link": true
    },
    "kernelspec": {
      "name": "python3",
      "display_name": "Python 3"
    },
    "language_info": {
      "name": "python"
    }
  },
  "cells": [
    {
      "cell_type": "markdown",
      "metadata": {
        "id": "view-in-github",
        "colab_type": "text"
      },
      "source": [
        "<a href=\"https://colab.research.google.com/github/AliciaJoseph/AI-4-ALL-Columbia-University/blob/main/DIabetes_Algorithm_(Logistic_Regression).ipynb\" target=\"_parent\"><img src=\"https://colab.research.google.com/assets/colab-badge.svg\" alt=\"Open In Colab\"/></a>"
      ]
    },
    {
      "cell_type": "code",
      "metadata": {
        "id": "CbxPXt6BRuP0"
      },
      "source": [
        "# Import pandas to create a data frame\n",
        "import pandas as pd\n",
        "import numpy as np\n",
        "import seaborn as sns\n",
        "\n",
        "# Import the libraries we'll use to create graphs\n",
        "from matplotlib import pyplot as plt\n",
        "\n",
        "# This command makes sure the graphs show in this window, not a new one\n",
        "%matplotlib inline "
      ],
      "execution_count": null,
      "outputs": []
    },
    {
      "cell_type": "code",
      "metadata": {
        "id": "1kr1Z6ipRwJ5"
      },
      "source": [
        "# import the csv file as a dataframe\n",
        "df = pd.read_csv('diabetes.csv',engine='python')"
      ],
      "execution_count": null,
      "outputs": []
    },
    {
      "cell_type": "code",
      "metadata": {
        "colab": {
          "base_uri": "https://localhost:8080/"
        },
        "id": "VJoArX8ETBGH",
        "outputId": "9d94939c-5411-4208-b435-af6a97cdbd83"
      },
      "source": [
        "df.columns"
      ],
      "execution_count": null,
      "outputs": [
        {
          "output_type": "execute_result",
          "data": {
            "text/plain": [
              "Index(['Pregnancies', 'Glucose', 'BloodPressure', 'SkinThickness', 'Insulin',\n",
              "       'BMI', 'DiabetesPedigreeFunction', 'Age', 'Outcome'],\n",
              "      dtype='object')"
            ]
          },
          "metadata": {
            "tags": []
          },
          "execution_count": 101
        }
      ]
    },
    {
      "cell_type": "code",
      "metadata": {
        "id": "_xtyQ22TScfQ"
      },
      "source": [
        "# Import some of the packages/libraries you need for supervised learning (from Jupyter Notebook)\n",
        "from scipy import stats\n",
        "from sklearn.metrics import accuracy_score\n",
        "from sklearn.model_selection import train_test_split\n",
        "from sklearn import metrics "
      ],
      "execution_count": null,
      "outputs": []
    },
    {
      "cell_type": "code",
      "metadata": {
        "id": "Yz2FiKsaSslA"
      },
      "source": [
        "#features to be used as input\n",
        "x = df[['Pregnancies', 'Glucose', 'BloodPressure', 'Insulin',\n",
        "       'BMI', 'Age']]\n",
        "#feature that is the outcome\n",
        "y = df[['Outcome']]"
      ],
      "execution_count": null,
      "outputs": []
    },
    {
      "cell_type": "code",
      "metadata": {
        "colab": {
          "base_uri": "https://localhost:8080/"
        },
        "id": "rIPVLwfrZygq",
        "outputId": "70894661-8ec2-429e-f51a-6c109e4b18b8"
      },
      "source": [
        "\n",
        "from sklearn.linear_model import LogisticRegression\n",
        "from sklearn.metrics import mean_squared_error, r2_score\n",
        "\n",
        "\n",
        "\n",
        "# We need to redefine y/output/prediction for logitistic regression\n",
        "\n",
        "y_logreg = df[['Outcome']]\n",
        "\n",
        "# Also reset our training and testing sets, since we have a new outcome\n",
        "x_train, x_test, y_train, y_test = train_test_split(x, y_logreg, test_size=0.50)\n",
        "\n",
        "# Create a Logistic Regression Classifier \n",
        "logreg = LogisticRegression()\n",
        "\n",
        "# Use the training set to fit the data\n",
        "logreg.fit(x_train, y_train.values.ravel())\n",
        "\n",
        "# Get the predictions\n",
        "y_pred_logreg = logreg.predict(x_test)\n",
        "\n",
        " \n",
        "# Accuracy\n",
        "accuracy = metrics.accuracy_score(y_test, y_pred_logreg)\n",
        "accuracy_percentage = 100 * accuracy\n",
        "print('Accuracy: ',accuracy_percentage)\n",
        "\n",
        "print('Mean squared error: %.2f'\n",
        "      % mean_squared_error(y_test, y_pred_logreg))"
      ],
      "execution_count": null,
      "outputs": [
        {
          "output_type": "stream",
          "text": [
            "Accuracy:  79.42708333333334\n",
            "Mean squared error: 0.21\n"
          ],
          "name": "stdout"
        }
      ]
    }
  ]
}